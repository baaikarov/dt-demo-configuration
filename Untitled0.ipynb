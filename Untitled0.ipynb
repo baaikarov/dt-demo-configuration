{
  "nbformat": 4,
  "nbformat_minor": 0,
  "metadata": {
    "colab": {
      "name": "Untitled0.ipynb",
      "provenance": [],
      "authorship_tag": "ABX9TyN41bQY35pAOJuIwWNJOeAO",
      "include_colab_link": true
    },
    "kernelspec": {
      "name": "python3",
      "display_name": "Python 3"
    },
    "language_info": {
      "name": "python"
    }
  },
  "cells": [
    {
      "cell_type": "markdown",
      "metadata": {
        "id": "view-in-github",
        "colab_type": "text"
      },
      "source": [
        "<a href=\"https://colab.research.google.com/github/baaikarov/dt-demo-configuration/blob/master/Untitled0.ipynb\" target=\"_parent\"><img src=\"https://colab.research.google.com/assets/colab-badge.svg\" alt=\"Open In Colab\"/></a>"
      ]
    },
    {
      "cell_type": "code",
      "metadata": {
        "id": "Je5uvL2xV05P"
      },
      "source": [
        "import pandas as pd\n",
        "import numpy as np\n",
        "%matplotlib inline\n",
        "import matplotlib.pyplot as plt\n",
        "import seaborn as sns\n",
        "\n",
        "import plotly.express as px\n",
        "df_companies =pd.read_csv('https://stepik.org/media/attachments/lesson/359209/companies.csv',encoding='utf-8',sep=';')"
      ],
      "execution_count": 3,
      "outputs": []
    },
    {
      "cell_type": "code",
      "metadata": {
        "colab": {
          "base_uri": "https://localhost:8080/",
          "height": 417
        },
        "id": "HX4aifyFWMbt",
        "outputId": "b9259cf8-f272-4c11-c9a4-d517cd6ce03b"
      },
      "source": [
        "df_companies"
      ],
      "execution_count": 4,
      "outputs": [
        {
          "output_type": "execute_result",
          "data": {
            "text/html": [
              "<div>\n",
              "<style scoped>\n",
              "    .dataframe tbody tr th:only-of-type {\n",
              "        vertical-align: middle;\n",
              "    }\n",
              "\n",
              "    .dataframe tbody tr th {\n",
              "        vertical-align: top;\n",
              "    }\n",
              "\n",
              "    .dataframe thead th {\n",
              "        text-align: right;\n",
              "    }\n",
              "</style>\n",
              "<table border=\"1\" class=\"dataframe\">\n",
              "  <thead>\n",
              "    <tr style=\"text-align: right;\">\n",
              "      <th></th>\n",
              "      <th>company</th>\n",
              "      <th>income</th>\n",
              "      <th>date</th>\n",
              "    </tr>\n",
              "  </thead>\n",
              "  <tbody>\n",
              "    <tr>\n",
              "      <th>0</th>\n",
              "      <td>ЗАО «Доронин, Колобов и Калашникова»</td>\n",
              "      <td>1221331958</td>\n",
              "      <td>2019-09-09</td>\n",
              "    </tr>\n",
              "    <tr>\n",
              "      <th>1</th>\n",
              "      <td>ООО «Авдеев»</td>\n",
              "      <td>21116804375</td>\n",
              "      <td>1972-12-21</td>\n",
              "    </tr>\n",
              "    <tr>\n",
              "      <th>2</th>\n",
              "      <td>РАО «Аксенов Сорокина»</td>\n",
              "      <td>79257158759</td>\n",
              "      <td>2007-03-05</td>\n",
              "    </tr>\n",
              "    <tr>\n",
              "      <th>3</th>\n",
              "      <td>Ларионов Инкорпорэйтед</td>\n",
              "      <td>36799366126</td>\n",
              "      <td>2011-08-11</td>\n",
              "    </tr>\n",
              "    <tr>\n",
              "      <th>4</th>\n",
              "      <td>Григорьев Инкорпорэйтед</td>\n",
              "      <td>48201837498</td>\n",
              "      <td>1989-09-02</td>\n",
              "    </tr>\n",
              "    <tr>\n",
              "      <th>...</th>\n",
              "      <td>...</td>\n",
              "      <td>...</td>\n",
              "      <td>...</td>\n",
              "    </tr>\n",
              "    <tr>\n",
              "      <th>288</th>\n",
              "      <td>Сэтл групп</td>\n",
              "      <td>6152279994</td>\n",
              "      <td>2004-03-30</td>\n",
              "    </tr>\n",
              "    <tr>\n",
              "      <th>289</th>\n",
              "      <td>ОАО «Горшков Чернов»</td>\n",
              "      <td>26623978007</td>\n",
              "      <td>2004-03-30</td>\n",
              "    </tr>\n",
              "    <tr>\n",
              "      <th>290</th>\n",
              "      <td>НПО «Фадеев»</td>\n",
              "      <td>84314056422</td>\n",
              "      <td>1998-09-03</td>\n",
              "    </tr>\n",
              "    <tr>\n",
              "      <th>291</th>\n",
              "      <td>Петролеум Трейдинг</td>\n",
              "      <td>95528839292</td>\n",
              "      <td>1975-01-31</td>\n",
              "    </tr>\n",
              "    <tr>\n",
              "      <th>292</th>\n",
              "      <td>ОАО «Жданова»</td>\n",
              "      <td>40620723709</td>\n",
              "      <td>2016-04-19</td>\n",
              "    </tr>\n",
              "  </tbody>\n",
              "</table>\n",
              "<p>293 rows × 3 columns</p>\n",
              "</div>"
            ],
            "text/plain": [
              "                                  company       income        date\n",
              "0    ЗАО «Доронин, Колобов и Калашникова»   1221331958  2019-09-09\n",
              "1                            ООО «Авдеев»  21116804375  1972-12-21\n",
              "2                  РАО «Аксенов Сорокина»  79257158759  2007-03-05\n",
              "3                  Ларионов Инкорпорэйтед  36799366126  2011-08-11\n",
              "4                 Григорьев Инкорпорэйтед  48201837498  1989-09-02\n",
              "..                                    ...          ...         ...\n",
              "288                            Сэтл групп   6152279994  2004-03-30\n",
              "289                  ОАО «Горшков Чернов»  26623978007  2004-03-30\n",
              "290                          НПО «Фадеев»  84314056422  1998-09-03\n",
              "291                    Петролеум Трейдинг  95528839292  1975-01-31\n",
              "292                         ОАО «Жданова»  40620723709  2016-04-19\n",
              "\n",
              "[293 rows x 3 columns]"
            ]
          },
          "metadata": {
            "tags": []
          },
          "execution_count": 4
        }
      ]
    },
    {
      "cell_type": "code",
      "metadata": {
        "id": "MNb-S-dyWdFd"
      },
      "source": [
        ""
      ],
      "execution_count": null,
      "outputs": []
    }
  ]
}